{
 "cells": [
  {
   "cell_type": "code",
   "execution_count": null,
   "id": "a5946482-17ae-4694-bc87-31884c82eb4e",
   "metadata": {},
   "outputs": [],
   "source": [
    "#Python Basics Variable"
   ]
  },
  {
   "cell_type": "code",
   "execution_count": null,
   "id": "4d81bcef-c1c2-4af3-bd37-58659a4134b4",
   "metadata": {},
   "outputs": [],
   "source": [
    "1. Declare two variables, `x` and `y`, and assign them integer values. Swap the\n",
    "values of these variables without using any temporary variable."
   ]
  },
  {
   "cell_type": "code",
   "execution_count": 8,
   "id": "5ba1f3ec-a448-4e43-9ae0-fdac4d0f1985",
   "metadata": {},
   "outputs": [
    {
     "name": "stdout",
     "output_type": "stream",
     "text": [
      "befor swap x:10 and y:20\n",
      "after swap x:20 and y:10\n"
     ]
    }
   ],
   "source": [
    "#declaring two variable \n",
    "x = 10\n",
    "y = 20\n",
    "#creating function for swapping\n",
    "def swap(x,y):\n",
    "    print(f\"befor swap x:{x} and y:{y}\")\n",
    "    x,y=y,x\n",
    "    print(f\"after swap x:{x} and y:{y}\")\n",
    "#calling function\n",
    "swap(x,y)"
   ]
  },
  {
   "cell_type": "code",
   "execution_count": null,
   "id": "3e35eb61-8f04-4276-93b8-afbe8e6f35c6",
   "metadata": {},
   "outputs": [],
   "source": [
    "2. Create a program that calculates the area of a rectangle. Take the length and\n",
    "width as inputs from the user and store them in variables. Calculate and\n",
    "display the area."
   ]
  },
  {
   "cell_type": "code",
   "execution_count": 12,
   "id": "c8e65330-25e8-4b31-831b-eee9dfe90e07",
   "metadata": {},
   "outputs": [
    {
     "name": "stdin",
     "output_type": "stream",
     "text": [
      "enter lenght of the rectangle 10\n",
      "enter width of the rectangle 15\n"
     ]
    },
    {
     "name": "stdout",
     "output_type": "stream",
     "text": [
      "Area of the rectangle is: 150.0\n"
     ]
    }
   ],
   "source": [
    "#inputs\n",
    "length = float(input(\"enter lenght of the rectangle\"))\n",
    "width = float(input(\"enter width of the rectangle\"))\n",
    "#formula\n",
    "area=length*width\n",
    "#area output\n",
    "print(\"Area of the rectangle is:\",area)\n",
    "\n"
   ]
  },
  {
   "cell_type": "code",
   "execution_count": null,
   "id": "db300c51-8266-4571-a25e-e9113f42ff4d",
   "metadata": {},
   "outputs": [],
   "source": [
    "3. Write a Python program that converts temperatures from Celsius to\n",
    "Fahrenheit. Take the temperature in Celsius as input, store it in a variable,\n",
    "convert it to Fahrenheit, and display the result."
   ]
  },
  {
   "cell_type": "code",
   "execution_count": 13,
   "id": "b0fb8c14-2a02-4441-8a2b-8042ded15190",
   "metadata": {},
   "outputs": [
    {
     "name": "stdin",
     "output_type": "stream",
     "text": [
      "enter temperature in celsius 20\n"
     ]
    },
    {
     "name": "stdout",
     "output_type": "stream",
     "text": [
      "Temperature in Fahrenheit is: 68.0\n"
     ]
    }
   ],
   "source": [
    "#inputs\n",
    "temperature_in_celsius=float(input(\"enter temperature in celsius\"))\n",
    "#formula\n",
    "temperature_in_fahrenheit=(temperature_in_celsius*9/5)+32\n",
    "\n",
    "print(\"Temperature in Fahrenheit is:\",temperature_in_fahrenheit)"
   ]
  },
  {
   "cell_type": "code",
   "execution_count": null,
   "id": "d0ca4e32-e999-4c41-aa37-584d97d9d7a7",
   "metadata": {},
   "outputs": [],
   "source": [
    "#String Based Questions"
   ]
  },
  {
   "cell_type": "code",
   "execution_count": null,
   "id": "c0f69684-ef07-4296-b893-b71b3e021c7e",
   "metadata": {},
   "outputs": [],
   "source": [
    "1. Write a Python program that takes a string as input and prints the length of\n",
    "the string."
   ]
  },
  {
   "cell_type": "code",
   "execution_count": 15,
   "id": "849f0161-1a0f-42aa-a778-e269e7bb7976",
   "metadata": {},
   "outputs": [
    {
     "name": "stdin",
     "output_type": "stream",
     "text": [
      "Enter a string mohit\n"
     ]
    },
    {
     "name": "stdout",
     "output_type": "stream",
     "text": [
      "Length of the string is: 5\n"
     ]
    }
   ],
   "source": [
    "x=input(\"Enter a string\")\n",
    "y=len(x)\n",
    "print(\"Length of the string is:\",y)\n"
   ]
  },
  {
   "cell_type": "code",
   "execution_count": null,
   "id": "8429779d-5855-4a39-8fc1-4bef184f340f",
   "metadata": {},
   "outputs": [],
   "source": [
    "2. Create a program that takes a sentence from the user and counts the number\n",
    "of vowels (a, e, i, o, u) in the string."
   ]
  },
  {
   "cell_type": "code",
   "execution_count": 16,
   "id": "e88961a9-6aa9-4a3b-bc26-6bc34ccf3d60",
   "metadata": {},
   "outputs": [
    {
     "name": "stdin",
     "output_type": "stream",
     "text": [
      "Enter a sentence:  hello world good morning\n"
     ]
    },
    {
     "name": "stdout",
     "output_type": "stream",
     "text": [
      "Number of vowels: 7\n"
     ]
    }
   ],
   "source": [
    "sen=input(\"Enter a sentence: \")\n",
    "count=0\n",
    "for i in sen:\n",
    "    ilow=i.lower()\n",
    "    if (ilow in \"aeiou\"):\n",
    "        count+=1\n",
    "print(\"Number of vowels:\",count)"
   ]
  },
  {
   "cell_type": "code",
   "execution_count": null,
   "id": "41fc5269-7427-493c-b491-ad85fb775307",
   "metadata": {},
   "outputs": [],
   "source": [
    "3. Given a string, reverse the order of characters using string slicing and print\n",
    "the reversed string."
   ]
  },
  {
   "cell_type": "code",
   "execution_count": 17,
   "id": "bfcbc2b4-2203-4dd3-865b-4a5c5796f1e9",
   "metadata": {},
   "outputs": [
    {
     "name": "stdin",
     "output_type": "stream",
     "text": [
      " hello\n"
     ]
    },
    {
     "name": "stdout",
     "output_type": "stream",
     "text": [
      "The reverse string is : olleh\n"
     ]
    }
   ],
   "source": [
    "input_string=input()\n",
    "reverse=input_string[::-1]\n",
    "print(\"The reverse string is :\",reverse)"
   ]
  },
  {
   "cell_type": "code",
   "execution_count": null,
   "id": "47bb841c-9487-476d-8fa9-7df8432e0300",
   "metadata": {},
   "outputs": [],
   "source": [
    "4. Write a program that takes a string as input and checks if it is a palindrome\n",
    "(reads the same forwards and backwards)."
   ]
  },
  {
   "cell_type": "code",
   "execution_count": 18,
   "id": "30ef7944-b34c-4e48-af7c-ee1d4d6e4c95",
   "metadata": {},
   "outputs": [
    {
     "name": "stdin",
     "output_type": "stream",
     "text": [
      "Enter a string:  hello\n"
     ]
    },
    {
     "name": "stdout",
     "output_type": "stream",
     "text": [
      "Not a Palindrome\n"
     ]
    }
   ],
   "source": [
    "input_string=input(\"Enter a string: \")\n",
    "reverse_string=input_string[::-1]\n",
    "if(input_string==reverse_string):\n",
    "    print(\"Palindrome\")\n",
    "else:\n",
    "    print(\"Not a Palindrome\")"
   ]
  },
  {
   "cell_type": "code",
   "execution_count": null,
   "id": "b98424f2-eadf-4912-8f9b-0050cc373377",
   "metadata": {},
   "outputs": [],
   "source": [
    "5. Create a program that takes a string as input and removes all the spaces from\n",
    "it. Print the modified string without spaces."
   ]
  },
  {
   "cell_type": "code",
   "execution_count": 20,
   "id": "de3a47e6-308e-4436-bcdb-20bbf6f839e6",
   "metadata": {},
   "outputs": [
    {
     "name": "stdin",
     "output_type": "stream",
     "text": [
      "Enter a String: hello hi\n"
     ]
    },
    {
     "name": "stdout",
     "output_type": "stream",
     "text": [
      "hellohi\n"
     ]
    }
   ],
   "source": [
    "input_string=input(\"Enter a String:\")\n",
    "new_string=''\n",
    "for i in input_string:\n",
    "    if(i!=' '):\n",
    "        new_string+=i\n",
    "    \n",
    "print(new_string)"
   ]
  },
  {
   "cell_type": "code",
   "execution_count": null,
   "id": "eb274c52-8e74-4dc3-a2cd-c48fc72b063c",
   "metadata": {},
   "outputs": [],
   "source": []
  }
 ],
 "metadata": {
  "kernelspec": {
   "display_name": "Python 3 (ipykernel)",
   "language": "python",
   "name": "python3"
  },
  "language_info": {
   "codemirror_mode": {
    "name": "ipython",
    "version": 3
   },
   "file_extension": ".py",
   "mimetype": "text/x-python",
   "name": "python",
   "nbconvert_exporter": "python",
   "pygments_lexer": "ipython3",
   "version": "3.10.8"
  }
 },
 "nbformat": 4,
 "nbformat_minor": 5
}
